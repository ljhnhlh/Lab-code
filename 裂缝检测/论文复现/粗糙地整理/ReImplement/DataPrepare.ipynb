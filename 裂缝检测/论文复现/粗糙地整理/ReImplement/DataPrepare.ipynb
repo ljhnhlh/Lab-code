{
 "cells": [
  {
   "cell_type": "markdown",
   "metadata": {},
   "source": [
    "# 数据准备\n"
   ]
  },
  {
   "cell_type": "markdown",
   "metadata": {},
   "source": [
    "首先将crack像素坐标存在nzero_list中，no_crack像素坐标存于zero_list中\n",
    "其中，nzero_list shape为(118,2)"
   ]
  },
  {
   "cell_type": "code",
   "execution_count": 5,
   "metadata": {},
   "outputs": [
    {
     "name": "stdout",
     "output_type": "stream",
     "text": [
      "find mat file :  ['001.mat', '002.mat', '003.mat', '004.mat', '005.mat', '006.mat', '007.mat', '008.mat', '009.mat', '010.mat', '011.mat', '012.mat', '013.mat', '014.mat', '015.mat', '016.mat', '017.mat', '018.mat', '019.mat', '020.mat', '021.mat', '022.mat', '023.mat', '024.mat', '025.mat', '026.mat', '027.mat', '028.mat', '029.mat', '030.mat', '031.mat', '032.mat', '033.mat', '034.mat', '035.mat', '036.mat', '037.mat', '038.mat', '039.mat', '040.mat', '041.mat', '042.mat', '043.mat', '044.mat', '045.mat', '046.mat', '047.mat', '048.mat', '049.mat', '050.mat', '051.mat', '052.mat', '053.mat', '054.mat', '055.mat', '056.mat', '057.mat', '058.mat', '059.mat', '060.mat', '061.mat', '062.mat', '063.mat', '064.mat', '065.mat', '066.mat', '067.mat', '068.mat', '069.mat', '070.mat', '071.mat', '072.mat', '073.mat', '074.mat', '075.mat', '076.mat', '077.mat', '078.mat', '079.mat', '080.mat', '081.mat', '082.mat', '083.mat', '084.mat', '085.mat', '086.mat', '087.mat', '088.mat', '089.mat', '090.mat', '091.mat', '092.mat', '093.mat', '094.mat', '095.mat', '096.mat', '097.mat', '098.mat', '099.mat', '100.mat', '101.mat', '102.mat', '103.mat', '104.mat', '105.mat', '106.mat', '107.mat', '108.mat', '109.mat', '110.mat', '111.mat', '112.mat', '113.mat', '114.mat', '115.mat', '116.mat', '117.mat', '118.mat']\n"
     ]
    }
   ],
   "source": [
    "# coding=utf-8\n",
    "import scipy.io as sio\n",
    "import pandas as pd\n",
    "import os\n",
    "import numpy as np\n",
    "\n",
    "\n",
    "path_dir = \"I:\\\\1裂缝检测\\\\CrackForest-dataset\\\\\"\n",
    "\n",
    "\n",
    "\"\"\" 将path_dir 文件夹下的.mat 文件转成二元数组array\n",
    "因为该文件的数据较复杂：\n",
    "struct groundTruth {\n",
    "   Segmentation:320x480\n",
    "   Boundaries:320x480\n",
    "}  = loadmat(file_list)\n",
    "\n",
    "下面的结果是：\n",
    "dat[x][y] 就是 该320x480的某个值\n",
    "\n",
    "或许需要将其生成图片\n",
    "\n",
    "\"\"\"\n",
    "\n",
    "nzero_list = []\n",
    "zero_list = []\n",
    "\n",
    "def mat2csv():\n",
    "    curr_path = os.path.dirname(path_dir)\n",
    "    mat_data_path = os.path.join(curr_path, \"groundTruth\")\n",
    "    if not os.path.exists(mat_data_path):\n",
    "        os.makedirs(mat_data_path)\n",
    "    file_list = os.listdir(mat_data_path)\n",
    "    mat_list = [file_name for file_name in file_list if file_name.endswith(\".mat\")]\n",
    "    print(\"find mat file : \", mat_list)\n",
    "    \n",
    "\n",
    "    for mat_file in mat_list:\n",
    "        file_path = os.path.join(mat_data_path, mat_file)\n",
    "        mat_data = sio.loadmat(file_path)\n",
    "        for key in mat_data:\n",
    "            if not str(key).startswith(\"__\"):\n",
    "                data = mat_data[key][:]\n",
    "                try:\n",
    "                    dat = np.array(data[0]['Segmentation'][0])\n",
    "                    temp = dat - 1\n",
    "                    \n",
    "                    nzero_list.append(np.nonzero(temp))\n",
    "                    zero_list.append(np.argwhere(temp == 0))\n",
    "                    \n",
    "#                     print(dat[1][3])\n",
    "#                     print(dat.shape)\n",
    "                except ValueError as e:\n",
    "                    print (e)\n",
    "                    continue\n",
    "if __name__ == \"__main__\":\n",
    "    mat2csv()"
   ]
  },
  {
   "cell_type": "markdown",
   "metadata": {},
   "source": [
    "# 读取图片分割并写入本地"
   ]
  },
  {
   "cell_type": "markdown",
   "metadata": {},
   "source": [
    "## 切割正样本的函数"
   ]
  },
  {
   "cell_type": "code",
   "execution_count": 6,
   "metadata": {},
   "outputs": [],
   "source": [
    "# 图片路径及保存路径\n",
    "imgAddress = \"I:/1裂缝检测/CrackForest-dataset/image/\"\n",
    "imgSave = \"I:/1裂缝检测/CrackForest-dataset/trian/positive1/\""
   ]
  },
  {
   "cell_type": "code",
   "execution_count": 7,
   "metadata": {},
   "outputs": [],
   "source": [
    "# -*- coding:utf-8 -*-\n",
    "\n",
    "from PIL import Image\n",
    "def cut():\n",
    "    # 图片地址\n",
    "    temp = np.array(nzero_list)\n",
    "    for i in range(1):\n",
    "        i = i + 1\n",
    "        x_list = np.array(temp[i-1][1])\n",
    "        y_list = np.array(temp[i-1][0])\n",
    "        str = \"{:0>3d}.jpg\".format(i);\n",
    "        \n",
    "        print(str)\n",
    "        im = Image.open(imgAddress + str )\n",
    "        for j in range(len(x_list)):\n",
    "            x1 = x_list[j]-13\n",
    "            y1 = y_list[j]-13\n",
    "            x2 = x_list[j]+14\n",
    "            y2 = y_list[j]+14\n",
    "            im2 = im.crop((x1,y1,x2,y2))\n",
    "#             print(imgSave+\"{:0>3d}{:0>5d}.jpg\".format(i,j))\n",
    "            im2.save(imgSave+\"{:0>3d}{:0>5d}.jpg\".format(i,j))\n",
    " "
   ]
  },
  {
   "cell_type": "markdown",
   "metadata": {},
   "source": [
    "切割"
   ]
  },
  {
   "cell_type": "code",
   "execution_count": 8,
   "metadata": {},
   "outputs": [
    {
     "name": "stdout",
     "output_type": "stream",
     "text": [
      "001.jpg\n"
     ]
    }
   ],
   "source": [
    "cut()"
   ]
  },
  {
   "cell_type": "markdown",
   "metadata": {},
   "source": [
    "# 剪切负样本"
   ]
  },
  {
   "cell_type": "code",
   "execution_count": null,
   "metadata": {},
   "outputs": [],
   "source": [
    "imgAddress = \"I:/1裂缝检测/CrackForest-dataset/image/\"\n",
    "imgSave = \"I:/1裂缝检测/CrackForest-dataset/trian/negative0/\""
   ]
  },
  {
   "cell_type": "code",
   "execution_count": 7,
   "metadata": {},
   "outputs": [],
   "source": [
    "import numpy as np\n",
    "from PIL import Image\n",
    "def cut_negative():\n",
    "    # 图片地址\n",
    "    temp = np.array(zero_list)\n",
    "\n",
    "    for i in range(1):\n",
    "        i = i + 1\n",
    "        index_list = np.array(temp[i-1])\n",
    "#         str = sprintf(\"%3d\",i);\n",
    "#         str = str + \".jpg\"\n",
    "        str = \"{:0>3d}.jpg\".format(i);\n",
    "        print(str)\n",
    "        im = Image.open(imgAddress + str)\n",
    "        for j in range(len(index_list)//27):\n",
    "            j = j * 20\n",
    "            if((index_list[j][1] > 27 and index_list[j][1] < 453)and (index_list[j][0] > 27 and index_list[j][0] < 293)):\n",
    "                x1 = index_list[j][1]-13\n",
    "                y1 = index_list[j][0]-13\n",
    "                x2 = index_list[j][1]+14\n",
    "                y2 = index_list[j][0]+14\n",
    "                im2 = im.crop((x1,y1,x2,y2))\n",
    "    #             print(imgSave+\"{:0>3d}{:0>5d}.jpg\".format(i,j))\n",
    "                im2.save(imgSave+\"{:0>3d}{:0>7d}.jpg\".format(i,j))\n",
    "            \n",
    "#             j = j+27\n",
    "#             print(j)\n",
    "#             if(j+27 > len(index_list)):\n",
    "#                 break\n",
    "            "
   ]
  },
  {
   "cell_type": "code",
   "execution_count": 8,
   "metadata": {},
   "outputs": [
    {
     "name": "stdout",
     "output_type": "stream",
     "text": [
      "001.jpg\n"
     ]
    }
   ],
   "source": [
    "cut_negative()"
   ]
  },
  {
   "cell_type": "markdown",
   "metadata": {},
   "source": [
    "## 移动样本"
   ]
  },
  {
   "cell_type": "code",
   "execution_count": 9,
   "metadata": {},
   "outputs": [
    {
     "name": "stdout",
     "output_type": "stream",
     "text": [
      "0\n",
      "1000\n",
      "0\n",
      "1000\n",
      "2000\n",
      "3000\n",
      "4000\n"
     ]
    }
   ],
   "source": [
    "import os \n",
    "import shutil as sh \n",
    "\n",
    "positivePath = \"I:/1裂缝检测/CrackForest-dataset/trian/positive1/\"\n",
    "negativePath = \"I:\\\\1裂缝检测\\\\CrackForest-dataset\\\\trian\\\\negative0\\\\\"\n",
    "\n",
    "train_po_path = \"I:\\\\1裂缝检测\\\\CrackForest-dataset\\\\trian\\\\data\\\\train\\\\crack\\\\\"\n",
    "train_ne_path = \"I:\\\\1裂缝检测\\\\CrackForest-dataset\\\\trian\\\\data\\\\train\\\\no_crack\\\\\"\n",
    "\n",
    "val_po_path = \"I:/1裂缝检测/CrackForest-dataset/trian/data/val/crack/\"\n",
    "val_ne_path = \"I:/1裂缝检测/CrackForest-dataset/trian/data/val/no_crack/\"\n",
    "\n",
    "\n",
    "po_file_list = os.listdir(positivePath)\n",
    "ne_file_list = os.listdir(negativePath)\n",
    "# print(po_file_list)\n",
    "\n",
    "for j in range(len(po_file_list)):\n",
    "    if(j < 1000):\n",
    "        sh.move(positivePath+po_file_list[j],train_po_path+po_file_list[j])\n",
    "    else:\n",
    "        sh.move(positivePath+po_file_list[j],val_po_path+po_file_list[j])\n",
    "    if(j % 1000 == 0):\n",
    "        print(j)\n",
    "    if(j > 2000):\n",
    "        break;\n",
    "\n",
    "for j in range(len(ne_file_list)):\n",
    "    if(j < 2000):\n",
    "        sh.move(negativePath+ne_file_list[j],train_ne_path+ne_file_list[j])\n",
    "    else:\n",
    "        sh.move(negativePath+ne_file_list[j],val_ne_path+ne_file_list[j])\n",
    "    if(j > 4000):\n",
    "        break\n",
    "    if(j % 1000 == 0):\n",
    "        print(j)\n",
    "\n",
    "    "
   ]
  },
  {
   "cell_type": "code",
   "execution_count": null,
   "metadata": {},
   "outputs": [],
   "source": []
  }
 ],
 "metadata": {
  "kernelspec": {
   "display_name": "Python (myenv)",
   "language": "python",
   "name": "myenv"
  },
  "language_info": {
   "codemirror_mode": {
    "name": "ipython",
    "version": 3
   },
   "file_extension": ".py",
   "mimetype": "text/x-python",
   "name": "python",
   "nbconvert_exporter": "python",
   "pygments_lexer": "ipython3",
   "version": "3.7.0"
  }
 },
 "nbformat": 4,
 "nbformat_minor": 2
}
