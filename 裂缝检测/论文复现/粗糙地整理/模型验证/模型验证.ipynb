{
 "cells": [
  {
   "cell_type": "markdown",
   "metadata": {},
   "source": [
    "# 检测图片\n",
    "\n",
    "## 第一步实验\n",
    "\n",
    "首先将一张图片分成n份27*27的图片，预测后print，查看是否仅有0，1（emm，论文好像是设置阈值，先输出看看\n",
    "\n",
    "第一步实验结果：\n",
    "\n"
   ]
  },
  {
   "cell_type": "code",
   "execution_count": 1,
   "metadata": {},
   "outputs": [],
   "source": [
    "import math\n",
    "import torch.nn as nn\n",
    "\n",
    "class Crack(nn.Module):\n",
    "    def __init__(self, Crack_cfg):\n",
    "        super(Crack, self).__init__()\n",
    "        self.features = self._make_layers(Crack_cfg)\n",
    "        # linear layer\n",
    "#         self.classifier = nn.Linear(512, 10)\n",
    "#         self.linear1 = nn.Linear(32*6*6,64)\n",
    "#         self.linear2 = nn.Linear(64,64)\n",
    "#         self.linear3 = nn.Linear(64,25)\n",
    "        self.classifier = self.make_classifier()\n",
    "    \n",
    "    def make_classifier(self):\n",
    "        classifier = []\n",
    "        classifier += [nn.Linear(32*6*6,64),nn.ReLU(inplace=True),nn.Dropout(p=0.5)]\n",
    "        classifier += [nn.Linear(64,64),nn.ReLU(inplace=True),nn.Dropout(p=0.5)]\n",
    "        classifier += [nn.Linear(64,25)]\n",
    "        return nn.Sequential(*classifier)\n",
    "    \n",
    "    def forward(self, x):\n",
    "        out = self.features(x)\n",
    "        out = out.view(out.size(0), -1)\n",
    "        out = self.classifier(out)\n",
    "#         out = self.linear1(out)\n",
    "#         out = self.linear2(out)\n",
    "#         out = self.linear3(out)\n",
    "        return out\n",
    "\n",
    "    def _make_layers(self, cfg):\n",
    "        \"\"\"\n",
    "        cfg: a list define layers this layer contains\n",
    "            'M': MaxPool, number: Conv2d(out_channels=number) -> BN -> ReLU\n",
    "        \"\"\"\n",
    "        layers = []\n",
    "        in_channels = 3\n",
    "        for x in cfg:\n",
    "            if x == 'M':\n",
    "                layers += [nn.MaxPool2d(kernel_size=2, stride=2)]\n",
    "            else:\n",
    "                layers += [nn.Conv2d(in_channels, x, kernel_size=3, padding=1),\n",
    "                           nn.BatchNorm2d(x),\n",
    "                           nn.ReLU(inplace=True)]\n",
    "                in_channels = x\n",
    "            \n",
    "#         layers += [nn.AvgPool2d(kernel_size=1, stride=1)]\n",
    "        return nn.Sequential(*layers)"
   ]
  },
  {
   "cell_type": "code",
   "execution_count": 2,
   "metadata": {},
   "outputs": [],
   "source": [
    "Crack_cfg = {\n",
    "    'Crack11':[16,16,'M',32,32,'M']\n",
    "}\n",
    "\n",
    "model_t = Crack(Crack_cfg['Crack11']);"
   ]
  },
  {
   "cell_type": "code",
   "execution_count": 3,
   "metadata": {},
   "outputs": [],
   "source": [
    "from functools import partial\n",
    "import pickle\n",
    "import torch\n",
    "# pickle.load = partial(pickle.load, encoding=\"latin1\")\n",
    "# pickle.Unpickler = partial(pickle.Unpickler, encoding=\"latin1\")\n",
    "# model = torch.load('D:\\\\大三下\\\\人工神经网络\\\\crack.pt', map_location=lambda storage, loc: storage, pickle_module=pickle)\n",
    "\n",
    "\n",
    "# model = torch.load('D:/大三下/人工神经网络/best.pt')\n",
    "model = torch.load('D:/大三下/ANN/crack.pt')\n",
    "model_t.load_state_dict(model)\n",
    "\n",
    "model_t.eval()\n",
    "device = \"cpu\""
   ]
  },
  {
   "cell_type": "code",
   "execution_count": 4,
   "metadata": {},
   "outputs": [],
   "source": [
    "device = 'cpu'"
   ]
  },
  {
   "cell_type": "code",
   "execution_count": 5,
   "metadata": {},
   "outputs": [],
   "source": [
    "\n",
    "\n",
    "\"\"\"\n",
    " 1.需要将图片reshape成,长和宽都是27的倍数\n",
    " 2.切割图片\n",
    " 3.将这批图片处理成4元tuple，正则化到[-1,1]区间\n",
    " 4.将图片用模型检验\n",
    " 5.print实验结果 \n",
    " 6.将tensor转换成图片\n",
    "\"\"\"\n",
    "\n",
    "\n",
    "import os\n",
    "import torch\n",
    "import pandas as pd\n",
    "from skimage import io, transform\n",
    "import numpy as np\n",
    "import matplotlib.pyplot as plt\n",
    "from torch.utils.data import Dataset, DataLoader\n",
    "from torchvision import transforms, utils\n",
    "import cv2\n",
    "from torch.autograd import Variable\n",
    "\n",
    "from skimage import io, transform\n",
    "from torchvision import transforms, utils\n",
    "\n",
    "test_trainsforms = transforms.Compose([\n",
    "    transforms.ToTensor(),\n",
    "    transforms.Normalize((0.5,0.5,0.5), (0.5,0.5,0.5))\n",
    "])\n",
    "\n",
    "def classify(img):\n",
    "    # 切分为imgNum^2份\n",
    "    width_num = img.shape[0]//(27)    \n",
    "    print(width_num)\n",
    "    height_num = img.shape[1]//(27)\n",
    "    print(height_num)\n",
    "    # 分割图片\n",
    "    img_roi = []\n",
    "    for i in range(width_num):  # [1]480*360==15*11---height\n",
    "        for j in range(height_num):  # [2]column-----------width\n",
    "            img_roi.append(img[(i * 27):((i + 1) * 27), (j * 27):((j + 1) * 27)])\n",
    "\n",
    "    # 转换图片并开始识别\n",
    "    t = img_roi[0]\n",
    "    t = to_pil(t)\n",
    "    t = test_trainsforms(t).float()\n",
    "    t = t.unsqueeze_(0)\n",
    "    # print(t.size())\n",
    "    for i in range(len(img_roi)):\n",
    "        if i != 0 :\n",
    "            te = img_roi[i]\n",
    "            te = to_pil(te)\n",
    "            te = test_trainsforms(te).float()\n",
    "            te = te.unsqueeze_(0)\n",
    "            t = torch.cat((t,te),0)\n",
    "            # print(t.size())\n",
    "    return predict_img(t)\n",
    "\n",
    "def classify_v2(img):\n",
    "    #对像素逐一采样并输出，会迭代（480-27）*（320-27）次\n",
    "    width = img.shape[0]\n",
    "    height = img.shape[1]\n",
    "    arr = []\n",
    "    for i in range(width):\n",
    "        for j in range(height):\n",
    "            if(i-27 >= 0 and i + 27 <= width and j - 27 >= 0 and j + 27 <= height):\n",
    "                t = img[i:i+27,j:j+27]\n",
    "                t = to_pil(t)\n",
    "                t = test_trainsforms(t).float()\n",
    "                t = t.unsqueeze_(0)\n",
    "                temp = predict_img(t)\n",
    "#                 if(i % 27 == 0):\n",
    "#                 print(temp)\n",
    "                arr.append(np.sum(np.array(temp)))\n",
    "        if(i % 100 == 0):\n",
    "            print(i)\n",
    "    return arr\n",
    "# \t# print(st)\n",
    "# \t# 对目标进行定位\n",
    "# \tloc = []\n",
    "# \tfor i in st:\n",
    "# \t    x = i % imgNum\n",
    "# \t    y = i // imgNum\n",
    "# \t    loc.append([x,y])\n",
    "# \t# print(loc)\n",
    "# \t# 在图片上标记目标\n",
    "# \tfor i in loc:\n",
    "# \t    cv2.rectangle(img, (i[0]*imw,i[1]*imh), (i[0]*imw+imw,i[1]*imh+imh), (255,0,0), 3)\n",
    "# \t# cv2.rectangle(img, 左上角, 右下角, （r，g，b）, 粗细（1，2，3，，）)\n",
    "# \t# 返回已画好的图片\n",
    "# \treturn img "
   ]
  },
  {
   "cell_type": "code",
   "execution_count": 6,
   "metadata": {},
   "outputs": [],
   "source": [
    "def predict_img(inputs):\n",
    "    with torch.no_grad():\n",
    "        inputs = inputs.to(device)\n",
    "        outputs = model_t(inputs)\n",
    "        imgNum = inputs.size()[0]\n",
    "        _,preds = torch.max(outputs,1)\n",
    "        std = []\n",
    "#         print(preds)\n",
    "        return outputs\n",
    "#         for j in range(inputs.size()[0]):\n",
    "#             # ax = plt.subplot(imgNum//2,2,j+1)\n",
    "#             # ax.axis('off')\n",
    "#             # ax.set_title('predicted: {}'.format(classname[preds[j]]))\n",
    "#             if preds[j] == 0:\n",
    "#                 std.append(j)\n",
    "#             # imshow(inputs.cpu().data[j])\n",
    "#         return std"
   ]
  },
  {
   "cell_type": "code",
   "execution_count": 7,
   "metadata": {},
   "outputs": [],
   "source": [
    "to_pil = transforms.ToPILImage()"
   ]
  },
  {
   "cell_type": "code",
   "execution_count": 8,
   "metadata": {},
   "outputs": [],
   "source": [
    "def imshow(inp):\n",
    "    \"\"\"Imshow for Tensor.\"\"\"\n",
    "    inp = inp.numpy().transpose((1, 2, 0))\n",
    "    mean = np.array([0.5,0.5,0.5])\n",
    "    std = np.array([0.5,0.5,0.5])\n",
    "    inp = std * inp + mean\n",
    "    inp = np.clip(inp, 0, 1)\n",
    "#     plt.imshow(inp)\n",
    "#     if title is not None:\n",
    "#         plt.title(title)\n",
    "#     plt.pause(0.001)  # pause a bit so that plots are updated\n"
   ]
  },
  {
   "cell_type": "code",
   "execution_count": 9,
   "metadata": {},
   "outputs": [
    {
     "name": "stdout",
     "output_type": "stream",
     "text": [
      "0\n",
      "100\n",
      "200\n",
      "300\n"
     ]
    }
   ],
   "source": [
    "#-*-coding:utf-8-*-\n",
    "import torch\n",
    "from torchvision import transforms\n",
    "from PIL import Image\n",
    "import cv2\n",
    "\n",
    "\n",
    "\n",
    "# if __name__ == '__main__':\n",
    "file = \"I:/1裂缝检测/CrackForest-dataset/image/001.jpg\"\n",
    "\n",
    "img = io.imread(file)\n",
    "#     print(classify(img))\n",
    "inp = classify_v2(img)\n",
    "# print(inp.shape)\n",
    "# inp = inp.numpy();\n",
    "# inp = inp.reshape(187,5,5)\n",
    "# print(inp.shape)\n",
    "\n",
    "#此处需要将其转化成灰度图\n",
    "    \n",
    "# mean = np.array([0.5,0.5,0.5,1])\n",
    "# std = np.array([0.5,0.5,0.5,0])\n",
    "# inp = std * inp[1] + mean\n",
    "# inp = np.clip(inp[1], 0, 1)\n",
    "    \n",
    "#     new_img_PIL = transforms.ToPILImage()(out).convert('RGB')\n",
    "#     new_img_PIL.show() # 处理后的PIL图片\n",
    "#     output = classify(img)\n",
    "#     print(output)\n",
    "#     imshow(output[1]);\n",
    "\n",
    "# \tfiles = os.listdir(path)\n",
    "# \tfile_paths=[]#构造一个存放图片的列表数据结构\n",
    "# \tfor file in files:\n",
    "# \t    file_path= path +\"\\\\\" + file\n",
    "# \t    file_paths.append(file_path)\n",
    "# \tst = '../testdata/img8/'\n",
    "# \tfor i in range(len(file_paths)):\n",
    "# \t\timg = io.imread(file_paths[i])\n",
    "# \t\timg = classify(img,imgNum) # 将图片分成imgNum*imgNum份进行识别\n",
    "# \t\tplt.imshow(img)\n",
    "# \t\timg_name = st + str(i) + '.jpg'\n",
    "# \t\tprint(img_name)\n",
    "# \t\tcv2.imwrite(img_name,img)\n",
    "# \t\tif(i>100):\n",
    "# \t\t\tbreak;"
   ]
  },
  {
   "cell_type": "code",
   "execution_count": 10,
   "metadata": {},
   "outputs": [
    {
     "name": "stdout",
     "output_type": "stream",
     "text": [
      "114009\n"
     ]
    }
   ],
   "source": [
    "temp = np.array(inp)\n",
    "print(temp.size)"
   ]
  },
  {
   "cell_type": "code",
   "execution_count": 11,
   "metadata": {},
   "outputs": [
    {
     "name": "stdout",
     "output_type": "stream",
     "text": [
      "(266, 426)\n"
     ]
    }
   ],
   "source": [
    "temp.resize(320-54,480-54)\n",
    "print(temp.shape)"
   ]
  },
  {
   "cell_type": "code",
   "execution_count": 12,
   "metadata": {},
   "outputs": [
    {
     "name": "stdout",
     "output_type": "stream",
     "text": [
      "[[18.46027  19.976547 19.850603 ... 18.495457 17.975079 18.07963 ]\n",
      " [17.741035 19.139206 20.19507  ... 17.858791 17.852163 17.900211]\n",
      " [17.612871 17.759375 19.195427 ... 18.822962 17.78648  18.352   ]\n",
      " ...\n",
      " [20.185331 20.432692 19.50629  ... 21.45198  20.976822 21.47798 ]\n",
      " [21.44425  21.940107 21.365053 ... 20.744356 20.154053 20.685764]\n",
      " [19.786856 20.62594  20.03652  ... 21.256315 20.920471 21.815409]]\n"
     ]
    }
   ],
   "source": [
    "print(temp)"
   ]
  },
  {
   "cell_type": "code",
   "execution_count": 13,
   "metadata": {},
   "outputs": [],
   "source": [
    "np.savetxt('input.csv', temp, delimiter = ',')"
   ]
  },
  {
   "cell_type": "code",
   "execution_count": 14,
   "metadata": {},
   "outputs": [
    {
     "name": "stdout",
     "output_type": "stream",
     "text": [
      "[[0.2854791  0.3976092  0.3882955  ... 0.2880812  0.24959874 0.25733042]\n",
      " [0.23229104 0.33568704 0.4137692  ... 0.2409992  0.24050905 0.24406224]\n",
      " [0.22281317 0.23364724 0.33984464 ... 0.3123005  0.2356517  0.27747238]\n",
      " ...\n",
      " [0.41304898 0.4313415  0.36283326 ... 0.5067189  0.47158045 0.5086415 ]\n",
      " [0.5061472  0.5428163  0.5002905  ... 0.45438936 0.4107359  0.45005646]\n",
      " [0.38358134 0.44563243 0.40204424 ... 0.49224922 0.46741325 0.5335947 ]]\n"
     ]
    }
   ],
   "source": [
    "t = temp\n",
    "\n",
    "t = (t - np.min(t))/(np.max(t)-np.min(t))\n",
    "print(t)"
   ]
  },
  {
   "cell_type": "code",
   "execution_count": 15,
   "metadata": {},
   "outputs": [],
   "source": [
    "# t = temp\n",
    "t[t>0.65] = 1\n",
    "t[t <= 0.65] = 0\n"
   ]
  },
  {
   "cell_type": "code",
   "execution_count": 16,
   "metadata": {},
   "outputs": [
    {
     "data": {
      "text/plain": [
       "<matplotlib.image.AxesImage at 0x26e6a3ffba8>"
      ]
     },
     "execution_count": 16,
     "metadata": {},
     "output_type": "execute_result"
    },
    {
     "data": {
      "image/png": "[encoded data removed]",
      "text/plain": [
       "<Figure size 432x288 with 1 Axes>"
      ]
     },
     "metadata": {
      "needs_background": "light"
     },
     "output_type": "display_data"
    }
   ],
   "source": [
    "plt.imshow(t, cmap=plt.cm.gray, interpolation='nearest')"
   ]
  },
  {
   "cell_type": "code",
   "execution_count": 40,
   "metadata": {},
   "outputs": [],
   "source": [
    "t = np.array(inp[1])\n",
    "t[t > 0] = 1\n",
    "t[t<=0] = 0\n",
    "# t = inp.reshape(11*5,17*5)\n",
    "t = np.empty([11*5,17*5],dtype=int)"
   ]
  },
  {
   "cell_type": "code",
   "execution_count": null,
   "metadata": {},
   "outputs": [],
   "source": []
  },
  {
   "cell_type": "code",
   "execution_count": null,
   "metadata": {},
   "outputs": [],
   "source": [
    "import cv2\n",
    "for i in range(10):\n",
    "    for j in range(16):\n",
    "        t[i*5:i*5+5,j*5:(j+1)*5] = inp[16*i+j]"
   ]
  },
  {
   "cell_type": "code",
   "execution_count": null,
   "metadata": {},
   "outputs": [],
   "source": [
    "# print(t[0:5,5:10])\n",
    "# print(inp[117])\n",
    "# print(inp[116])\n",
    "temp = np.array(inp)\n",
    "temp.resize(11*5,17*5)\n",
    "print(temp.shape)\n",
    "np.savetxt('t.csv', t, delimiter = ',')\n",
    "np.savetxt('inp.csv', temp, delimiter = ',')\n",
    "print(inp.shape)"
   ]
  },
  {
   "cell_type": "code",
   "execution_count": 122,
   "metadata": {},
   "outputs": [
    {
     "data": {
      "text/plain": [
       "<matplotlib.image.AxesImage at 0x1709017db38>"
      ]
     },
     "execution_count": 122,
     "metadata": {},
     "output_type": "execute_result"
    },
    {
     "data": {
      "image/png": "[encoded data removed]",
      "text/plain": [
       "<Figure size 432x288 with 1 Axes>"
      ]
     },
     "metadata": {
      "needs_background": "light"
     },
     "output_type": "display_data"
    }
   ],
   "source": [
    "img = temp;\n",
    "# temp = ((temp-np.min(img)))/(np.max(img)-np.min(img))\n",
    "plt.imshow(temp, cmap=plt.cm.gray, interpolation='nearest')"
   ]
  },
  {
   "cell_type": "code",
   "execution_count": 103,
   "metadata": {},
   "outputs": [
    {
     "name": "stdout",
     "output_type": "stream",
     "text": [
      "[[3.03334566e-09 6.06669126e-09 6.06669126e-09 ... 6.06669126e-09\n",
      "  6.06669126e-09 6.06669126e-09]\n",
      " [6.37002585e-09 6.06669126e-09 6.06669126e-09 ... 6.06669126e-09\n",
      "  6.06669126e-09 6.06669126e-09]\n",
      " [6.06669126e-09 6.06669126e-09 6.06669126e-09 ... 6.06669126e-09\n",
      "  6.06669126e-09 6.06669126e-09]\n",
      " ...\n",
      " [9.59317021e-01 9.59317021e-01 9.59317021e-01 ... 9.59317021e-01\n",
      "  9.59317021e-01 9.59317021e-01]\n",
      " [9.59317021e-01 9.59317021e-01 9.59317021e-01 ... 9.59317021e-01\n",
      "  9.59317021e-01 9.59317021e-01]\n",
      " [9.59317021e-01 9.59317021e-01 9.59317021e-01 ... 9.59317021e-01\n",
      "  9.59317021e-01 9.59317021e-01]]\n"
     ]
    }
   ],
   "source": [
    "img = t;\n",
    "t = ((t-np.min(img)))/(np.max(img)-np.min(img))\n",
    "print(t)\n",
    "np.savetxt('new2.csv', t, delimiter = ',')\n",
    "# print(t.shape)\n",
    "# print(np.argwhere(t > 0.5).size)\n",
    "\n",
    "# plt.imshow(t, cmap=plt.cm.gray, interpolation='nearest')"
   ]
  },
  {
   "cell_type": "code",
   "execution_count": 104,
   "metadata": {},
   "outputs": [
    {
     "data": {
      "text/plain": [
       "<matplotlib.image.AxesImage at 0x1709009e5f8>"
      ]
     },
     "execution_count": 104,
     "metadata": {},
     "output_type": "execute_result"
    },
    {
     "data": {
      "image/png": "[encoded data removed]",
      "text/plain": [
       "<Figure size 432x288 with 1 Axes>"
      ]
     },
     "metadata": {
      "needs_background": "light"
     },
     "output_type": "display_data"
    }
   ],
   "source": [
    "# temp = np.array(t)\n",
    "# temp[temp < 1] = 0\n",
    "plt.imshow(temp, cmap=plt.cm.gray, interpolation='nearest')"
   ]
  },
  {
   "cell_type": "code",
   "execution_count": 98,
   "metadata": {},
   "outputs": [
    {
     "name": "stdout",
     "output_type": "stream",
     "text": [
      "[[ 1.08163738e+01 -3.32994014e-01  8.34247231e-01 -6.64817572e-01\n",
      "   1.34698898e-01]\n",
      " [-1.28444409e+00 -6.46651685e-01  2.83206105e-01 -1.62072062e+00\n",
      "  -6.97971821e-01]\n",
      " [-3.15533012e-01  8.20260882e-01  3.15951467e-01  2.77510937e-02\n",
      "  -5.54200727e-04]\n",
      " [ 1.21174002e+00 -9.88388896e-01 -2.14578599e-01  7.21678883e-02\n",
      "   1.19841516e-01]\n",
      " [ 6.23069048e-01 -4.87565637e-01 -4.99401614e-02  1.32870063e-01\n",
      "   1.35973668e+00]]\n"
     ]
    }
   ],
   "source": [
    "print(inp[0])"
   ]
  },
  {
   "cell_type": "code",
   "execution_count": 31,
   "metadata": {},
   "outputs": [
    {
     "name": "stdout",
     "output_type": "stream",
     "text": [
      "[[ 1.6236370e+01 -3.8423282e-01  1.2442583e+00 -1.0688343e+00\n",
      "   2.2348273e-01]\n",
      " [-1.9327322e+00 -9.1323298e-01  4.2273441e-01 -2.4899380e+00\n",
      "  -1.1130682e+00]\n",
      " [-4.7808108e-01  1.2940669e+00  5.4051685e-01 -1.0369082e-02\n",
      "  -8.1067957e-02]\n",
      " [ 1.9045973e+00 -1.4466017e+00 -3.2824543e-01  2.1919766e-01\n",
      "   2.2019877e-01]\n",
      " [ 9.4612408e-01 -8.0150169e-01 -5.4314751e-02  7.0221573e-02\n",
      "   2.1187606e+00]]\n"
     ]
    }
   ],
   "source": [
    "print(inp[1])"
   ]
  },
  {
   "cell_type": "code",
   "execution_count": null,
   "metadata": {},
   "outputs": [],
   "source": []
  }
 ],
 "metadata": {
  "kernelspec": {
   "display_name": "Python (myenv)",
   "language": "python",
   "name": "myenv"
  },
  "language_info": {
   "codemirror_mode": {
    "name": "ipython",
    "version": 3
   },
   "file_extension": ".py",
   "mimetype": "text/x-python",
   "name": "python",
   "nbconvert_exporter": "python",
   "pygments_lexer": "ipython3",
   "version": "3.7.0"
  }
 },
 "nbformat": 4,
 "nbformat_minor": 2
}
